{
  "nbformat": 4,
  "nbformat_minor": 0,
  "metadata": {
    "colab": {
      "name": "Problem_2.ipynb",
      "provenance": [],
      "collapsed_sections": []
    },
    "kernelspec": {
      "name": "python3",
      "display_name": "Python 3"
    },
    "language_info": {
      "name": "python"
    }
  },
  "cells": [
    {
      "cell_type": "code",
      "metadata": {
        "id": "jcJv9O-zygvs"
      },
      "source": [
        "import pandas as pd\n",
        "import numpy as np\n",
        "import matplotlib.pyplot as plt\n",
        "import seaborn as sns\n",
        "import numpy.random as nr\n",
        "import sklearn.model_selection as ms\n",
        "import math\n",
        "\n",
        "\n",
        "%matplotlib inline"
      ],
      "execution_count": 2,
      "outputs": []
    },
    {
      "cell_type": "code",
      "metadata": {
        "colab": {
          "base_uri": "https://localhost:8080/",
          "height": 195
        },
        "id": "9TcP4TBLwHOf",
        "outputId": "9a868d83-8b2d-48fe-e001-15a188ca888f"
      },
      "source": [
        "data = pd.read_json('https://raw.githubusercontent.com/wncc/learners-space/master/Machine%20Learning/MId%20Term%20Assignment/data.json')\n",
        "data.head()"
      ],
      "execution_count": 3,
      "outputs": [
        {
          "output_type": "execute_result",
          "data": {
            "text/html": [
              "<div>\n",
              "<style scoped>\n",
              "    .dataframe tbody tr th:only-of-type {\n",
              "        vertical-align: middle;\n",
              "    }\n",
              "\n",
              "    .dataframe tbody tr th {\n",
              "        vertical-align: top;\n",
              "    }\n",
              "\n",
              "    .dataframe thead th {\n",
              "        text-align: right;\n",
              "    }\n",
              "</style>\n",
              "<table border=\"1\" class=\"dataframe\">\n",
              "  <thead>\n",
              "    <tr style=\"text-align: right;\">\n",
              "      <th></th>\n",
              "      <th>0</th>\n",
              "      <th>1</th>\n",
              "      <th>2</th>\n",
              "    </tr>\n",
              "  </thead>\n",
              "  <tbody>\n",
              "    <tr>\n",
              "      <th>0</th>\n",
              "      <td>-3.005382</td>\n",
              "      <td>-1.701191</td>\n",
              "      <td>1</td>\n",
              "    </tr>\n",
              "    <tr>\n",
              "      <th>1</th>\n",
              "      <td>-2.908105</td>\n",
              "      <td>-1.699589</td>\n",
              "      <td>1</td>\n",
              "    </tr>\n",
              "    <tr>\n",
              "      <th>2</th>\n",
              "      <td>-2.958954</td>\n",
              "      <td>-1.660940</td>\n",
              "      <td>1</td>\n",
              "    </tr>\n",
              "    <tr>\n",
              "      <th>3</th>\n",
              "      <td>-2.922840</td>\n",
              "      <td>-1.638722</td>\n",
              "      <td>1</td>\n",
              "    </tr>\n",
              "    <tr>\n",
              "      <th>4</th>\n",
              "      <td>-2.924240</td>\n",
              "      <td>-1.508256</td>\n",
              "      <td>1</td>\n",
              "    </tr>\n",
              "  </tbody>\n",
              "</table>\n",
              "</div>"
            ],
            "text/plain": [
              "          0         1  2\n",
              "0 -3.005382 -1.701191  1\n",
              "1 -2.908105 -1.699589  1\n",
              "2 -2.958954 -1.660940  1\n",
              "3 -2.922840 -1.638722  1\n",
              "4 -2.924240 -1.508256  1"
            ]
          },
          "metadata": {
            "tags": []
          },
          "execution_count": 3
        }
      ]
    },
    {
      "cell_type": "code",
      "metadata": {
        "colab": {
          "base_uri": "https://localhost:8080/"
        },
        "id": "u6zTFcapydjF",
        "outputId": "3f102eb9-a58c-4c1d-a599-9d2fa481c097"
      },
      "source": [
        "label_counts = data.iloc[:,2].value_counts()\n",
        "print(label_counts)"
      ],
      "execution_count": 4,
      "outputs": [
        {
          "output_type": "stream",
          "text": [
            "1    4679\n",
            "0    1321\n",
            "Name: 2, dtype: int64\n"
          ],
          "name": "stdout"
        }
      ]
    },
    {
      "cell_type": "code",
      "metadata": {
        "id": "jfK_mdPFN9em"
      },
      "source": [
        "# labels = np.array(data.iloc[:, 2])"
      ],
      "execution_count": 5,
      "outputs": []
    },
    {
      "cell_type": "code",
      "metadata": {
        "id": "snFsuVz20zKF"
      },
      "source": [
        "X = data.iloc[:,:2]\n",
        "Y = data.iloc[:,2:]\n",
        "x_train,x_test,y_train,y_test = ms.train_test_split(X,Y, test_size = 0.2)"
      ],
      "execution_count": 6,
      "outputs": []
    },
    {
      "cell_type": "code",
      "metadata": {
        "id": "kfaRNADSey8s"
      },
      "source": [
        ""
      ],
      "execution_count": 6,
      "outputs": []
    },
    {
      "cell_type": "code",
      "metadata": {
        "colab": {
          "base_uri": "https://localhost:8080/"
        },
        "id": "TCGajxa-6Prm",
        "outputId": "478c69fc-44e1-4613-c807-e458b551efb5"
      },
      "source": [
        "nr.seed(3432)\n",
        "np.array(x_train).reshape(4800,2)\n",
        "np.array(y_train).reshape(4800,1)\n",
        "\n"
      ],
      "execution_count": 20,
      "outputs": [
        {
          "output_type": "execute_result",
          "data": {
            "text/plain": [
              "array([[1],\n",
              "       [1],\n",
              "       [1],\n",
              "       ...,\n",
              "       [0],\n",
              "       [1],\n",
              "       [1]])"
            ]
          },
          "metadata": {
            "tags": []
          },
          "execution_count": 20
        }
      ]
    },
    {
      "cell_type": "code",
      "metadata": {
        "colab": {
          "base_uri": "https://localhost:8080/"
        },
        "id": "sfrA7WZzV1rO",
        "outputId": "cac375d8-4bbe-4c63-ec7a-9355ab3b6e00"
      },
      "source": [
        "print(x_train)"
      ],
      "execution_count": 21,
      "outputs": [
        {
          "output_type": "stream",
          "text": [
            "             0         1\n",
            "5222  2.233427 -1.022874\n",
            "2067 -1.076734  0.597008\n",
            "648  -2.313592 -0.047871\n",
            "4281  1.188463  1.038697\n",
            "2001 -0.909774 -1.561372\n",
            "...        ...       ...\n",
            "2446 -0.649362 -0.136147\n",
            "4039  1.059299 -0.383652\n",
            "2413 -0.680865 -1.237630\n",
            "4662  1.533398  0.486746\n",
            "193  -2.880430  1.471616\n",
            "\n",
            "[4800 rows x 2 columns]\n"
          ],
          "name": "stdout"
        }
      ]
    },
    {
      "cell_type": "code",
      "metadata": {
        "id": "_87FSYVeuPyK"
      },
      "source": [
        "# Function  \n",
        "def f(A, coef):\n",
        "  fun = np.dot(A,coef.reshape(5,1))\n",
        "  return fun"
      ],
      "execution_count": 9,
      "outputs": []
    },
    {
      "cell_type": "code",
      "metadata": {
        "id": "VjRM6gflzp96"
      },
      "source": [
        "# Hypothesis\n",
        "def h(A, coef):\n",
        "  return np.array(1/(1+(np.exp(-f(A,coef)))) )"
      ],
      "execution_count": 10,
      "outputs": []
    },
    {
      "cell_type": "code",
      "metadata": {
        "id": "AYZecIvB3RXF"
      },
      "source": [
        "# Loss function\n",
        "def l(y, A, coef):   # y shouldn't be the predicted values\n",
        "  return (-np.dot(y, np.log(h(A, coef))) - np.dot((1-y),np.log(1-h(A, coef))) )/y.shape[0]"
      ],
      "execution_count": 11,
      "outputs": []
    },
    {
      "cell_type": "code",
      "metadata": {
        "id": "mZc82H1L7WR0"
      },
      "source": [
        "# Gradient \n",
        "def g(A, coef, y):\n",
        "  return np.dot(np.array(h(A, coef).reshape(4800,1) - y).reshape([1,4800]), A)/y.shape[0]\n",
        "  # here we will get a 1x5 matrix consisting of the gradient wrt each of the coeff"
      ],
      "execution_count": 12,
      "outputs": []
    },
    {
      "cell_type": "code",
      "metadata": {
        "id": "IffAXS9gBns3"
      },
      "source": [
        "# Gradient Descent \n",
        "def gradesc(A, y, coef,L):       # here coef is column vector \n",
        "  for i in range (250):\n",
        "    coef = coef.reshape(5,1) - L*g(A, coef, y).reshape(5,1)\n",
        "  return coef  \n"
      ],
      "execution_count": 13,
      "outputs": []
    },
    {
      "cell_type": "code",
      "metadata": {
        "colab": {
          "base_uri": "https://localhost:8080/"
        },
        "id": "0Nxy7YDHEyQm",
        "outputId": "03595bb2-1723-4e83-b465-85b9f87c897a"
      },
      "source": [
        "\n",
        "A0 = np.array(x_train[0]**4).reshape(1, 4800)\n",
        "A1 = np.array(x_train[0]**3 * x_train[1]).reshape(1, 4800)\n",
        "A2 = np.array(x_train[0]**2 * x_train[1]**2).reshape(1, 4800)\n",
        "A3 = np.array(x_train[0]**1 * x_train[1]**3).reshape(1, 4800)\n",
        "A4 = np.array(x_train[1]**4 ).reshape(1, 4800)\n",
        "A = np.vstack((A0, A1, A2, A3, A4))\n",
        "A = A.T\n",
        "print(A)\n",
        "A.shape"
      ],
      "execution_count": 14,
      "outputs": [
        {
          "output_type": "stream",
          "text": [
            "[[ 2.48821204e+01 -1.13956081e+01  5.21900388e+00 -2.39021923e+00\n",
            "   1.09468169e+00]\n",
            " [ 1.34410451e+00 -7.45255474e-01  4.13216174e-01 -2.29112851e-01\n",
            "   1.27034472e-01]\n",
            " [ 2.86514654e+01  5.92832091e-01  1.22663844e-02  2.53805738e-04\n",
            "   5.25153545e-06]\n",
            " ...\n",
            " [ 2.14903734e-01  3.90637340e-01  7.10073895e-01  1.29072386e+00\n",
            "   2.34618974e+00]\n",
            " [ 5.52864921e+00  1.75495738e+00  5.57075572e-01  1.76832324e-01\n",
            "   5.61318292e-02]\n",
            " [ 6.88381664e+01 -3.51695281e+01  1.79681675e+01 -9.17996521e+00\n",
            "   4.69005875e+00]]\n"
          ],
          "name": "stdout"
        },
        {
          "output_type": "execute_result",
          "data": {
            "text/plain": [
              "(4800, 5)"
            ]
          },
          "metadata": {
            "tags": []
          },
          "execution_count": 14
        }
      ]
    },
    {
      "cell_type": "code",
      "metadata": {
        "colab": {
          "base_uri": "https://localhost:8080/"
        },
        "id": "R2RldANkedLP",
        "outputId": "48717f4c-6113-4974-df42-94f27ce7d3d2"
      },
      "source": [
        "coef = np.array([0.001, 0.001, 0.001, 0.001, 0.001])\n",
        "type(coef)\n",
        "coef.shape"
      ],
      "execution_count": 15,
      "outputs": [
        {
          "output_type": "execute_result",
          "data": {
            "text/plain": [
              "(5,)"
            ]
          },
          "metadata": {
            "tags": []
          },
          "execution_count": 15
        }
      ]
    },
    {
      "cell_type": "code",
      "metadata": {
        "colab": {
          "base_uri": "https://localhost:8080/"
        },
        "id": "ULKFMqGneo1P",
        "outputId": "8e1f9ea4-6446-443c-e897-2305cc8e3324"
      },
      "source": [
        "gradesc(A,y_train, coef, 0.001)"
      ],
      "execution_count": 16,
      "outputs": [
        {
          "output_type": "execute_result",
          "data": {
            "text/plain": [
              "array([[ 0.20027882],\n",
              "       [-0.00100257],\n",
              "       [ 0.04265616],\n",
              "       [-0.00192677],\n",
              "       [-0.03138927]])"
            ]
          },
          "metadata": {
            "tags": []
          },
          "execution_count": 16
        }
      ]
    },
    {
      "cell_type": "code",
      "metadata": {
        "id": "UXVWoAZDgqLn"
      },
      "source": [
        ""
      ],
      "execution_count": 16,
      "outputs": []
    },
    {
      "cell_type": "code",
      "metadata": {
        "id": "jBui1mIafIbL"
      },
      "source": [
        "def predict(x_test, coef = gradesc(A,y_train, coef, 0.001) ):\n",
        "  A0 = np.array(x_test[0]**4).reshape(1, 1200)\n",
        "  A1 = np.array(x_test[0]**3 * x_test[1]).reshape(1, 1200)\n",
        "  A2 = np.array(x_test[0]**2 * x_test[1]**2).reshape(1, 1200)\n",
        "  A3 = np.array(x_test[0]**1 * x_test[1]**3).reshape(1, 1200)\n",
        "  A4 = np.array(x_test[1]**4 ).reshape(1, 1200)\n",
        "  A = np.vstack((A0, A1, A2, A3, A4))\n",
        "  A = A.T\n",
        "  return h(A, coef)"
      ],
      "execution_count": 18,
      "outputs": []
    },
    {
      "cell_type": "code",
      "metadata": {
        "colab": {
          "base_uri": "https://localhost:8080/"
        },
        "id": "ArlZWmInhMR3",
        "outputId": "12885e19-ce70-4478-f6f2-8c33f8365437"
      },
      "source": [
        "predict(x_test)"
      ],
      "execution_count": 24,
      "outputs": [
        {
          "output_type": "execute_result",
          "data": {
            "text/plain": [
              "array([[0.56139143],\n",
              "       [0.74505696],\n",
              "       [0.47840768],\n",
              "       ...,\n",
              "       [0.50001503],\n",
              "       [0.47740443],\n",
              "       [0.87921658]])"
            ]
          },
          "metadata": {
            "tags": []
          },
          "execution_count": 24
        }
      ]
    },
    {
      "cell_type": "code",
      "metadata": {
        "id": "bH4di6RuhWK8"
      },
      "source": [
        ""
      ],
      "execution_count": null,
      "outputs": []
    }
  ]
}