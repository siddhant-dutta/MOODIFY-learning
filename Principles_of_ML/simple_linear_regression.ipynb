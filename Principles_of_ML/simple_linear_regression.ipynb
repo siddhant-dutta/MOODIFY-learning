{
  "nbformat": 4,
  "nbformat_minor": 0,
  "metadata": {
    "colab": {
      "name": "simple_linear_regression.ipynb",
      "provenance": [],
      "collapsed_sections": [],
      "authorship_tag": "ABX9TyPVKDXOuexESC5FA8Z4lDZP",
      "include_colab_link": true
    },
    "kernelspec": {
      "name": "python3",
      "display_name": "Python 3"
    },
    "language_info": {
      "name": "python"
    }
  },
  "cells": [
    {
      "cell_type": "markdown",
      "metadata": {
        "id": "view-in-github",
        "colab_type": "text"
      },
      "source": [
        "<a href=\"https://colab.research.google.com/github/siddhant-dutta/MOODIFY-learning/blob/main/simple_linear_regression.ipynb\" target=\"_parent\"><img src=\"https://colab.research.google.com/assets/colab-badge.svg\" alt=\"Open In Colab\"/></a>"
      ]
    },
    {
      "cell_type": "code",
      "metadata": {
        "colab": {
          "base_uri": "https://localhost:8080/",
          "height": 537
        },
        "id": "_PLNSd-vbJrz",
        "outputId": "2865377d-fe3c-48b0-b766-cc3dea60cc46"
      },
      "source": [
        "import numpy as np \n",
        "import pandas as pd \n",
        "import matplotlib.pyplot as plt \n",
        "plt.rcParams['figure.figsize'] = (12.0 , 9.0)\n",
        "\n",
        "#Preprocessing input Data \n",
        "data = pd.read_csv('https://raw.githubusercontent.com/chasinginfinity/ml-from-scratch/master/02%20Linear%20Regression%20using%20Gradient%20Descent/data.csv', \n",
        "                   header = None)  # if we don't set header = None then the default value will cause the first row to be considered as the column index\n",
        "# df = pd.DataFrame(data= data)\n",
        "# print(df.head())\n",
        "X = data.iloc[:,0]\n",
        "Y = data.iloc[:,1]\n",
        "plt.scatter(X, Y)\n",
        "plt.show()\n"
      ],
      "execution_count": null,
      "outputs": [
        {
          "output_type": "display_data",
          "data": {
            "image/png": "[encoded data removed]",
            "text/plain": [
              "<Figure size 864x648 with 1 Axes>"
            ]
          },
          "metadata": {
            "tags": [],
            "needs_background": "light"
          }
        }
      ]
    },
    {
      "cell_type": "markdown",
      "metadata": {
        "id": "-5AbBBEIQ1xA"
      },
      "source": [
        "### Cost Function \n",
        "First we will find the cost function (which returns the error between the actual and the predicted values) it is also called as the Mean squared error fucnction \n",
        "- **MSE = 1/n sum((y - y_pred)^2)**\n",
        "- **y_pred = m*x + c** (since its linear regression)\n"
      ]
    },
    {
      "cell_type": "markdown",
      "metadata": {
        "id": "_qe1Ee7bSo_w"
      },
      "source": [
        "### Loss function\n",
        "- partial derivative of loss func wrt m \n",
        "  - D_m = -2/n * sum(x(y-(m*x + c ))) \n",
        "- partial derivative of loss func wrt c\n",
        "  - D_c = -2/n * sum(y - (m*x + c))"
      ]
    },
    {
      "cell_type": "markdown",
      "metadata": {
        "id": "BdwjtW8gVOvX"
      },
      "source": [
        "### Set and update current values of m and c \n",
        "The initial values of m and c be 0 .Now we take L as the learning rate.. set L to a small value to increase precision .. here let's take L =  0.0001 <br>\n",
        "Our motive here is to minimize the loss function so that we can get the optimum values of the m and c for the line of linear regression <br>\n",
        "So we will update the values of m and c as shown below :\n",
        "- **m = m - L * D_m**\n",
        "- **c = c- L * D_c** <br>\n",
        "This will ensure that the both m and c are updated such that the change in value of m and c will be less when the gradient will be less .. that means when we approach value 0 for D_m and D_c the change in m and c will be very small <br>\n"
      ]
    },
    {
      "cell_type": "code",
      "metadata": {
        "colab": {
          "base_uri": "https://localhost:8080/"
        },
        "id": "zbRV3e09X-A5",
        "outputId": "0dd7488d-d09a-4d9f-9197-c92cef166713"
      },
      "source": [
        "# initial values \n",
        "m = 0\n",
        "c = 0 \n",
        "L = 0.0001\n",
        "iterations = 1000\n",
        "\n",
        "n = float(len(X))\n",
        "\n",
        "for i in range(iterations):\n",
        "  Y_pred =  m*X + c\n",
        "  D_m = (-2/n) * sum(X * (Y - Y_pred))\n",
        "  D_c = (-2/n) * sum((Y - Y_pred))\n",
        "  #updating values\n",
        "  m = m - L*D_m   # -ve of gradient gives the direction in which we have to change our parameter \n",
        "  c = c - L*D_c \n",
        "m_reg = m\n",
        "c_reg = c \n",
        "print(m, c)"
      ],
      "execution_count": null,
      "outputs": [
        {
          "output_type": "stream",
          "text": [
            "1.4777440851894448 0.08893651993741342\n"
          ],
          "name": "stdout"
        }
      ]
    },
    {
      "cell_type": "markdown",
      "metadata": {
        "id": "MRWtc0xVYDjD"
      },
      "source": [
        "### Make Predictions "
      ]
    },
    {
      "cell_type": "code",
      "metadata": {
        "colab": {
          "base_uri": "https://localhost:8080/",
          "height": 537
        },
        "id": "ZCg_a8BCYG81",
        "outputId": "afe34873-56b5-45f7-eef3-cc4d0fd76315"
      },
      "source": [
        "Y_pred =  m*X + c\n",
        "\n",
        "plt.scatter(X, Y)  # original plot without the regression line\n",
        "plt.plot(X, Y_pred, color='red')\n",
        "plt.show()"
      ],
      "execution_count": null,
      "outputs": [
        {
          "output_type": "display_data",
          "data": {
            "image/png": "[encoded data removed]",
            "text/plain": [
              "<Figure size 864x648 with 1 Axes>"
            ]
          },
          "metadata": {
            "tags": [],
            "needs_background": "light"
          }
        }
      ]
    },
    {
      "cell_type": "code",
      "metadata": {
        "colab": {
          "base_uri": "https://localhost:8080/"
        },
        "id": "kae-Pw1dg5sd",
        "outputId": "05d65538-2d63-4679-9af5-ac04a258738e"
      },
      "source": [
        "def prediction(x):\n",
        "  return m_reg * x + c_reg\n",
        "prediction(65)"
      ],
      "execution_count": null,
      "outputs": [
        {
          "output_type": "execute_result",
          "data": {
            "text/plain": [
              "96.14230205725133"
            ]
          },
          "metadata": {
            "tags": []
          },
          "execution_count": 7
        }
      ]
    }
  ]
}
